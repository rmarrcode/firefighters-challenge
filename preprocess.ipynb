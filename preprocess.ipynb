{
 "cells": [
  {
   "cell_type": "code",
   "execution_count": 1,
   "metadata": {},
   "outputs": [],
   "source": [
    "import pandas as pd\n",
    "import matplotlib.pyplot as plt\n",
    "from mpl_toolkits.mplot3d import Axes3D\n",
    "import numpy as np\n",
    "import ipywidgets as widgets\n",
    "from IPython.display import display\n",
    "import datetime\n",
    "import czmlizer\n",
    "import importlib\n",
    "importlib.reload(czmlizer)"
   ]
  },
  {
   "cell_type": "code",
   "execution_count": null,
   "metadata": {},
   "outputs": [],
   "source": [
    "df = pd.read_csv(\"training.csv\")\n",
    "pd.set_option('display.max_columns', None)\n",
    "\n",
    "# Remove Participants 1 and 37 because of corrupt data\n",
    "\n",
    "df = df.loc[df['PARTICIPANT_KEY'] != 1.0]\n",
    "df = df.loc[df['PARTICIPANT_KEY'] != 37.0]\n",
    "\n",
    "\n",
    "# Add the UTC_DATETIME column\n",
    "def combine_utc_date_and_time(utc_date, utc_time):\n",
    "    return datetime.datetime.combine(datetime.datetime.strptime(utc_date, '%Y-%m-%d %H:%M:%S').date(), datetime.datetime.strptime(utc_time, '%H:%M:%S').time())\n",
    "\n",
    "df['UTC_DATETIME'] = df.apply(lambda row: combine_utc_date_and_time(row['UTC_DATE'], row['UTC_TIME']), axis=1)"
   ]
  },
  {
   "cell_type": "code",
   "execution_count": null,
   "metadata": {},
   "outputs": [],
   "source": [
    "def add_session_ids(data, gap):\n",
    "    session_id = 0 \n",
    "    participant = 0.0\n",
    "    previous = None\n",
    "    result = []\n",
    "    for index, row in data.iterrows():\n",
    "        if row['PARTICIPANT_KEY'] != participant: # must be someone new\n",
    "            participant = row['PARTICIPANT_KEY']\n",
    "            session_id += 1\n",
    "        elif row['UTC_DATETIME'] < previous: # out of order data, must be new\n",
    "            session_id += 1\n",
    "        elif row['UTC_DATETIME'] - previous > gap: # big gap, must be new\n",
    "            session_id += 1\n",
    "        previous = row['UTC_DATETIME']\n",
    "        result.append(session_id)\n",
    "    data['SESSION_ID'] = result"
   ]
  },
  {
   "cell_type": "code",
   "execution_count": null,
   "metadata": {},
   "outputs": [],
   "source": [
    "def add_mission_ids(interval, df):\n",
    "    df = df.sort_values(by=['UTC_DATETIME'])\n",
    "    mission_id = -1\n",
    "    for unique_row in df['IHC'].unique():\n",
    "        ihc = df[df['IHC'] == unique_row]\n",
    "        smallest_index = int(ihc.index.min())\n",
    "        last_time_step = ihc.loc[smallest_index, 'UTC_DATETIME']\n",
    "        mission_id = mission_id + 1\n",
    "        for (index, row) in ihc.iterrows():\n",
    "            if (row['UTC_DATETIME'] - last_time_step) > interval:\n",
    "                mission_id = mission_id + 1\n",
    "                last_time_step = row['UTC_DATETIME']\n",
    "            df.at[index, 'MISSION_ID'] = mission_id     "
   ]
  },
  {
   "cell_type": "code",
   "execution_count": null,
   "metadata": {},
   "outputs": [],
   "source": [
    "interval = pd.Timedelta(hours=6)\n",
    "add_mission_ids(interval, df)"
   ]
  },
  {
   "cell_type": "code",
   "execution_count": null,
   "metadata": {},
   "outputs": [],
   "source": [
    "no_missions = df['MISSION_ID'].max()\n",
    "for mission in range(no_missions):\n",
    "    mission_data = df[df['MISSION_ID'] == mission]\n",
    "    mission_idx = df[df['MISSION_ID'] == mission].index.min()\n",
    "    ihc = df.loc[mission_idx,'IHC']\n",
    "    datetime_start = df.loc[mission_idx,\"UTC_DATETIME\"]\n",
    "    cz = czmlizer.Builder()\n",
    "    for participant in mission_data['PARTICIPANT_KEY'].unique():\n",
    "        participant_data = mission_data[mission_data['PARTICIPANT_KEY'] == participant]\n",
    "        trajectory = list(zip(list(participant_data['UTC_DATETIME']), 0.0 - participant_data['LONGITUDE'], participant_data['LATITUDE']))\n",
    "        cz.add_ground_entity(participant, \"../Cesium-1.104/Apps/SampleData/models/ArrowMarker/ArrowMarker.glb\", trajectory, f\"Participant {participant}\", minimum_pixel_size = 25)\n",
    "    fname = f\"./czml_missions/{mission}_{ihc}_{datetime_start}.czml\".replace(\" \", \"\")\n",
    "    with open(fname, 'w') as file:\n",
    "        file.write(cz.dumps())"
   ]
  }
 ],
 "metadata": {
  "kernelspec": {
   "display_name": "Python 3",
   "language": "python",
   "name": "python3"
  },
  "language_info": {
   "codemirror_mode": {
    "name": "ipython",
    "version": 3
   },
   "file_extension": ".py",
   "mimetype": "text/x-python",
   "name": "python",
   "nbconvert_exporter": "python",
   "pygments_lexer": "ipython3",
   "version": "3.8.10"
  }
 },
 "nbformat": 4,
 "nbformat_minor": 2
}
